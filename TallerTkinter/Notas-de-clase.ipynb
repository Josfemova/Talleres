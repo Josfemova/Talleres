{
 "metadata": {
  "language_info": {
   "codemirror_mode": {
    "name": "ipython",
    "version": 3
   },
   "file_extension": ".py",
   "mimetype": "text/x-python",
   "name": "python",
   "nbconvert_exporter": "python",
   "pygments_lexer": "ipython3",
   "version": "3.9.2-final"
  },
  "orig_nbformat": 2,
  "kernelspec": {
   "name": "python3",
   "display_name": "Python 3.9.2 64-bit",
   "metadata": {
    "interpreter": {
     "hash": "2031f9519a7c89e6e764d298a7cc2bf310f53fcc368717afac921416e61cc7f7"
    }
   }
  }
 },
 "nbformat": 4,
 "nbformat_minor": 2,
 "cells": [
  {
   "source": [
    "# Tkinter\n",
    "\n",
    "## Qué es?\n",
    "\n",
    "* Parte de la biblioteca estándar de python\n",
    "* Hecha para hacer GUI's de forma simple y rápida\n",
    "* Una biblioteca algo limitada para tareas de animación"
   ],
   "cell_type": "markdown",
   "metadata": {}
  },
  {
   "source": [
    "## Pasos iniciales\n",
    "\n",
    "Como la mayoría de bibliotecas de interfaz gráfica, tkinter es una biblioteca modular.\n",
    "Para comenzar solo es necesario importar la biblioteca y crear una ventana"
   ],
   "cell_type": "markdown",
   "metadata": {}
  },
  {
   "source": [
    "from tkinter import *\n",
    "ventana = Tk()\n",
    "# código dentro del \n",
    "ventana.mainloop() # indica en qué parte \"termina\" nuestro programa"
   ],
   "cell_type": "code",
   "metadata": {},
   "execution_count": null,
   "outputs": []
  },
  {
   "source": [
    "## Adecuando la ventana\n",
    "\n",
    "Cada elemento de tkinter es modificable mediante funciones que expone un componente de la interfaz. Módulos primarios como las ventanas se pueden modificar de manera directa, pero hay que tomar en cuenta que ciertos elementos, como los dibujos en un canvas, se modifican por medio del elemento padre.\n",
    "\n",
    "Para una ventana podemos modificar dimensiones utilizando las funciones:\n",
    "* title\n",
    "* minsize\n",
    "* resize"
   ],
   "cell_type": "markdown",
   "metadata": {}
  },
  {
   "cell_type": "code",
   "execution_count": null,
   "metadata": {},
   "outputs": [],
   "source": [
    "from tkinter import *\n",
    "ventana = Tk()\n",
    "ventana.title(\"Título de prueba\")\n",
    "ventana.mainloop()"
   ]
  },
  {
   "cell_type": "code",
   "execution_count": null,
   "metadata": {},
   "outputs": [],
   "source": [
    "from tkinter import *\n",
    "ventana = Tk()\n",
    "ventana.title(\"Título de prueba\")\n",
    "ventana.minsize(400,600)\n",
    "ventana.mainloop()"
   ]
  },
  {
   "cell_type": "code",
   "execution_count": null,
   "metadata": {},
   "outputs": [],
   "source": [
    "from tkinter import *\n",
    "ventana = Tk()\n",
    "ventana.title(\"Título de prueba\")\n",
    "ventana.minsize(400,600)\n",
    "ventana.resizable(width=NO, height=NO)\n",
    "ventana.mainloop()"
   ]
  },
  {
   "source": [
    "## Elementos hijos\n",
    "\n",
    "En tkinter podemos definir varios tipos de elementos hijos de una ventana. Una guía relativamente completa la pueden encontrar en: https://anzeljg.github.io/rin2/book2/2405/docs/tkinter/index.html\n",
    "\n",
    "Por ahora solo veremos:\n",
    "\n",
    "* Canvas\n",
    "* Label\n",
    "* Entry\n",
    "* Botones\n",
    "\n",
    "## Colocando elementos\n",
    "\n",
    "La sintaxis para colocar un elemento suele componerse de dos órdenes, una de creación y otra de colocación, de forma general:\n",
    "\n",
    "variable = Elemento(padre, (características...))\n",
    "varibale.tipoColocado(parámetros)\n",
    "\n",
    "Hay tres formas de colocar:\n",
    "* General: .pack(side=lado)\n",
    "* Fila-columna: .grid(row=fila,column=columna)\n",
    "* Coordenadas: .place(x=horizontal, y=vertical)\n",
    "\n",
    "## Coordenadas:\n",
    "\n",
    "El sistema de coordenas por default tiene origen en la esquina superior izquierda del **elemento padre**. Este punto puede cambiarse según vean conveniente, aunque lo más posible es que lo mejor sea mantenerse consistente en la mayoría de casos"
   ],
   "cell_type": "markdown",
   "metadata": {}
  },
  {
   "source": [
    "## Elemento Label\n",
    "\n",
    "Vamos a colocar un label. El mismo expone las siguientes características:\n",
    "* text: string de texto a mostrar\n",
    "* font: fuente a usar en el label de forma ('fuente',tamaño)\n",
    "* bg: color de fondo \n",
    "* fg: color de letra\n",
    "* justify: justificación de texto\n",
    "* image: permite mostrar una imagen, **no recomendado**"
   ],
   "cell_type": "markdown",
   "metadata": {}
  },
  {
   "cell_type": "code",
   "execution_count": null,
   "metadata": {},
   "outputs": [],
   "source": [
    "from tkinter import *\n",
    "ventana = Tk()\n",
    "ventana.title(\"Título de prueba\")\n",
    "ventana.minsize(400,600)\n",
    "ventana.resizable(width=NO, height=NO)\n",
    "\n",
    "about = \"\"\"\n",
    "Instituto Tecnológico de Costa Rica\n",
    "Ingeniería en Computadores\n",
    "\n",
    "Ejemplo para taller tkinter\n",
    "\n",
    "Profesor Milton Villegas Lemus\n",
    "Asistente José Morales\n",
    "\"\"\"\n",
    "\n",
    "L_about = Label(ventana, text = about, font=('Noto Sans', 15), bg='#ffffff', fg = '#21b21a') #en tkinter se pueden usar código hex del color o el nombre\n",
    "L_about.place(x=20, y=20)\n",
    "ventana.mainloop()"
   ]
  },
  {
   "source": [
    "## Elemento Canvas\n",
    "\n",
    "Se podría decir que para ustedes este elemento es el que va a ser más importante para desarrollar el proyecto, puesto que es donde van a realizar las animaciones.\n",
    "\n",
    "El elemento Canvas expone las siguientes propiedades:\n",
    "\n",
    "* width: anchura\n",
    "* height: altura\n",
    "* bg: color de fondo\n",
    "\n",
    "El uso del canvas se da mayoritariamente para dibujar imágenes y otros elementros gráficos. La ventaja sobre colocar imágenes con botones es que en un canvas sí se puede hacer uso del fondo transparente de una imagen .PNG\n",
    "\n",
    "Para dar un ejemplo de como se usa un canvas, vamos a crear uno y momentáneamente mover el label de antes para que su referencia su padre sea el canvas\n"
   ],
   "cell_type": "markdown",
   "metadata": {}
  },
  {
   "cell_type": "code",
   "execution_count": null,
   "metadata": {},
   "outputs": [],
   "source": [
    "from tkinter import *\n",
    "ventana = Tk()\n",
    "ventana.title(\"Título de prueba\")\n",
    "ventana.minsize(400,600)\n",
    "ventana.resizable(width=NO, height=NO)\n",
    "\n",
    "about = \"\"\"\n",
    "Instituto Tecnológico de Costa Rica\n",
    "Ingeniería en Computadores\n",
    "\n",
    "Ejemplo para taller tkinter\n",
    "\n",
    "Profesor Milton Villegas Lemus\n",
    "Asistente José Morales\n",
    "\"\"\"\n",
    "\n",
    "C_principal = Canvas(ventana, width=350, height=300, bg='white')\n",
    "C_principal.place(x=0,y=0)# pruebe que pasa con el label al cambiar estos valores \n",
    "\n",
    "L_about = Label(C_principal, text = about, font=('Noto Sans', 15), bg='#ffffff', fg = '#21b21a')\n",
    "L_about.place(x=20, y=20)\n",
    "ventana.mainloop()"
   ]
  },
  {
   "source": [
    "## Cargando imágenes:\n",
    "\n",
    "Para cargar imágenes podemos hacer una función que simplifique el cargado de la imagen, aunque perfectamente podemos omitir su uso si lo vemos conveniente. \n",
    "\n",
    "Vamos a ver un ejemplo de como se coloca una imagen usando el canvas. De paso, podemos ajustar la ventana a la imagen que vamos a utilizar.\n",
    "\n",
    "Para esto, vamos a hacer uso de la función del canvas create_image. La sintaxis de esta función es la siguiente:\n",
    "\n",
    "```\n",
    "varCanvas.varimagen = |función de cargar imagen| \n",
    "varCanvas.create_image(coordx, coordy, anchor = |esquina de ancla o centro|, image=|imagen cargada|)\n",
    "```\n",
    "\n",
    "hay más opciones pero por ahora probemos con solo estas:\n"
   ],
   "cell_type": "markdown",
   "metadata": {}
  },
  {
   "cell_type": "code",
   "execution_count": null,
   "metadata": {},
   "outputs": [],
   "source": [
    "about = \"\"\"\n",
    "Instituto tecnológico de Costa Rica\n",
    "Ingeniería en Computadores\n",
    "\"\"\"\n",
    "\n",
    "from tkinter import *\n",
    "#nuevos imports para esta sección\n",
    "from os import path\n",
    "##################################\n",
    "ventana = Tk()\n",
    "ventana.title(\"Título de prueba\")\n",
    "ventana.minsize(640,480)\n",
    "ventana.resizable(width=NO, height=NO)\n",
    "\n",
    "def cargar_img(nombre):\n",
    "    ruta  = path.join('Ejemplo\\\\assets', nombre)\n",
    "    img=PhotoImage(file=ruta)\n",
    "    return img\n",
    "\n",
    "C_principal = Canvas(ventana, width=640, height=480, bg='white')\n",
    "C_principal.place(x=0,y=0) \n",
    "\n",
    "L_about = Label(C_principal, text = about, font=('Noto Sans', 15), bg='#ffffff', fg = '#21b21a')\n",
    "L_about.place(x=20, y=20)\n",
    "\n",
    "C_principal.fondo = cargar_img('fondo.png')\n",
    "Fondo1 = C_principal.create_image(0,0,anchor=NW, image=C_principal.fondo)\n",
    "\n",
    "\n",
    "ventana.mainloop()"
   ]
  },
  {
   "source": [
    "## Entry"
   ],
   "cell_type": "markdown",
   "metadata": {}
  },
  {
   "source": [
    "## Botones y mensajes"
   ],
   "cell_type": "markdown",
   "metadata": {}
  },
  {
   "source": [
    "## Variables globales"
   ],
   "cell_type": "markdown",
   "metadata": {}
  },
  {
   "source": [
    "# Hilos\n",
    "\n",
    "\n",
    "## Música"
   ],
   "cell_type": "markdown",
   "metadata": {}
  },
  {
   "cell_type": "code",
   "execution_count": 5,
   "metadata": {},
   "outputs": [],
   "source": [
    "from tkinter import *\n",
    "# Imports para manejar hilos y música\n",
    "import vlc #pip3 install python-vlc antes de poder usarla\n",
    "from threading import Thread\n",
    "from os import path\n",
    "################################\n",
    "ventana = Tk()\n",
    "ventana.title(\"Tablero música\")\n",
    "ventana.minsize(500,50)\n",
    "ventana.resizable(width=NO, height=NO)\n",
    "\n",
    "reproductor=vlc.MediaPlayer()\n",
    "\n",
    "def cargarMP3(nombre):\n",
    "    return path.join('Ejemplo\\\\assets', nombre)\n",
    "\n",
    "def reproducir_fx(archivoMP3):\n",
    "    Thread(target = vlc.MediaPlayer(archivoMP3).play, args=()).start()\n",
    "\n",
    "def reproducir_cancion(archivoMP3):\n",
    "    global reproductor\n",
    "    detener_cancion()\n",
    "    reproductor = vlc.MediaPlayer(archivoMP3)\n",
    "    reproductor.audio_set_volume(50)\n",
    "    Thread(target = reproductor.play, args=()).start()\n",
    "\n",
    "def detener_cancion():\n",
    "    global reproductor\n",
    "    if(isinstance(reproductor, vlc.MediaPlayer)):\n",
    "       reproductor.stop()\n",
    "\n",
    "\n",
    "song1  = Button(ventana, text='celeste',command = lambda: reproducir_cancion(cargarMP3('song1.mp3')), height=10)\n",
    "song2  = Button(ventana, text='helltaker vitality',command = lambda: reproducir_cancion(cargarMP3('song2.mp3')),height=10)\n",
    "song3  = Button(ventana, text='helltaker epitomize',command = lambda: reproducir_cancion(cargarMP3('song3.mp3')),height=10)\n",
    "fx = Button(ventana, text='efecto de láser',command = lambda: reproducir_fx(cargarMP3('laser.mp3')),height=10)\n",
    "\n",
    "song1.place(x=10,y=20)\n",
    "song2.place(x=100,y=20)\n",
    "song3.place(x=250,y=20)\n",
    "fx.place(x=400,y=20)\n",
    "\n",
    "def close():\n",
    "    global OPEN\n",
    "    detener_cancion()\n",
    "    ventana.destroy()\n",
    "    return\n",
    "\n",
    "ventana.protocol(\"WM_DELETE_WINDOW\", close)\n",
    "\n",
    "ventana.mainloop()"
   ]
  }
 ]
}